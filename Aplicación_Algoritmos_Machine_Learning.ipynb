{
  "nbformat": 4,
  "nbformat_minor": 0,
  "metadata": {
    "kernelspec": {
      "display_name": "Python 3",
      "language": "python",
      "name": "python3"
    },
    "language_info": {
      "codemirror_mode": {
        "name": "ipython",
        "version": 3
      },
      "file_extension": ".py",
      "mimetype": "text/x-python",
      "name": "python",
      "nbconvert_exporter": "python",
      "pygments_lexer": "ipython3",
      "version": "3.7.6"
    },
    "colab": {
      "name": "Aplicación_Algoritmos_Machine_Learning.ipynb",
      "provenance": [],
      "include_colab_link": true
    }
  },
  "cells": [
    {
      "cell_type": "markdown",
      "metadata": {
        "id": "view-in-github",
        "colab_type": "text"
      },
      "source": [
        "<a href=\"https://colab.research.google.com/github/marcmacias96/PythonMachineLearning/blob/master/Aplicacio%CC%81n_Algoritmos_Machine_Learning.ipynb\" target=\"_parent\"><img src=\"https://colab.research.google.com/assets/colab-badge.svg\" alt=\"Open In Colab\"/></a>"
      ]
    },
    {
      "cell_type": "markdown",
      "metadata": {
        "id": "3Nz7TVA6rEj9"
      },
      "source": [
        "<h1><strong>Clasificar Plantas IRIS</strong></h1>\n",
        "\n",
        "\n",
        "<a href=\"https://gist.github.com/netj/8836201\">Dataset Iris en GitHub</a>\n",
        "\n",
        "\n",
        "<img src=\"sepalo_petalo.jpg\" align=\"left\" width=\"100\" height=\"100\">\n",
        "<img src=\"versicolor_virginica_setosa.jpg\" align=\"center\" width=\"350\" height=\"500\">"
      ]
    },
    {
      "cell_type": "code",
      "metadata": {
        "id": "i1m001kArEj_"
      },
      "source": [
        "### LIBRERIAS A UTILIZAR ###\n",
        "import numpy as np\n",
        "import pandas as pd\n",
        "import matplotlib.pyplot as plt"
      ],
      "execution_count": null,
      "outputs": []
    },
    {
      "cell_type": "code",
      "metadata": {
        "id": "l2JOCPMKrEkA",
        "outputId": "3ad1ea13-1ced-41ac-ce66-9d1b2b06995b"
      },
      "source": [
        "### IMPORTAMOS LOS DATOS ###\n",
        "iris = pd.read_csv(\"iris.csv\")\n",
        "iris = iris.drop('Id', axis=1)\n",
        "print(iris.head())"
      ],
      "execution_count": null,
      "outputs": [
        {
          "output_type": "stream",
          "text": [
            "   SepalLengthCm  SepalWidthCm  PetalLengthCm  PetalWidthCm      Species\n",
            "0            5.1           3.5            1.4           0.2  Iris-setosa\n",
            "1            4.9           3.0            1.4           0.2  Iris-setosa\n",
            "2            4.7           3.2            1.3           0.2  Iris-setosa\n",
            "3            4.6           3.1            1.5           0.2  Iris-setosa\n",
            "4            5.0           3.6            1.4           0.2  Iris-setosa\n"
          ],
          "name": "stdout"
        }
      ]
    },
    {
      "cell_type": "code",
      "metadata": {
        "id": "Z1OjAOyYrEkB",
        "outputId": "890a0a21-311a-4e83-b8bd-4d2398e930ce"
      },
      "source": [
        "### ANALIZAMOS LOS DATOS ###\n",
        "print('Información del Dataset')\n",
        "iris.info()\n",
        "print()\n",
        "print(\"Descripcion del Dataset\")\n",
        "print(iris.describe())\n",
        "print()\n",
        "print(\"Distribución de las especies de iris\")\n",
        "print(iris.groupby('Species').size())\n",
        "print()"
      ],
      "execution_count": null,
      "outputs": [
        {
          "output_type": "stream",
          "text": [
            "Información del Dataset\n",
            "<class 'pandas.core.frame.DataFrame'>\n",
            "RangeIndex: 150 entries, 0 to 149\n",
            "Data columns (total 5 columns):\n",
            " #   Column         Non-Null Count  Dtype  \n",
            "---  ------         --------------  -----  \n",
            " 0   SepalLengthCm  150 non-null    float64\n",
            " 1   SepalWidthCm   150 non-null    float64\n",
            " 2   PetalLengthCm  150 non-null    float64\n",
            " 3   PetalWidthCm   150 non-null    float64\n",
            " 4   Species        150 non-null    object \n",
            "dtypes: float64(4), object(1)\n",
            "memory usage: 6.0+ KB\n",
            "\n",
            "Descripcion del Dataset\n",
            "       SepalLengthCm  SepalWidthCm  PetalLengthCm  PetalWidthCm\n",
            "count     150.000000    150.000000     150.000000    150.000000\n",
            "mean        5.843333      3.054000       3.758667      1.198667\n",
            "std         0.828066      0.433594       1.764420      0.763161\n",
            "min         4.300000      2.000000       1.000000      0.100000\n",
            "25%         5.100000      2.800000       1.600000      0.300000\n",
            "50%         5.800000      3.000000       4.350000      1.300000\n",
            "75%         6.400000      3.300000       5.100000      1.800000\n",
            "max         7.900000      4.400000       6.900000      2.500000\n",
            "\n",
            "Distribución de las especies de iris\n",
            "Species\n",
            "Iris-setosa        50\n",
            "Iris-versicolor    50\n",
            "Iris-virginica     50\n",
            "dtype: int64\n",
            "\n"
          ],
          "name": "stdout"
        }
      ]
    },
    {
      "cell_type": "code",
      "metadata": {
        "id": "Ek-SSMM4rEkB",
        "outputId": "04c37bda-65f1-4648-c751-ad7c1e6e3ce7"
      },
      "source": [
        "### VISUALIZAMOS LOS DATOS ###\n",
        "###Gráfico del Sepalo - Longuitud vs Ancho ###\n",
        "\n",
        "fig = iris[iris.Species == 'Iris-setosa'].plot(kind='scatter', x = 'SepalLengthCm', y = 'SepalWidthCm',\n",
        "                                              color = 'blue', label='Setosa')\n",
        "iris[iris.Species == 'Iris-versicolor'].plot(kind='scatter', x = 'SepalLengthCm', y = 'SepalWidthCm',\n",
        "                                              color = 'green', label='Versicolor', ax=fig)\n",
        "iris[iris.Species == 'Iris-virginica'].plot(kind='scatter', x = 'SepalLengthCm', y = 'SepalWidthCm',\n",
        "                                              color = 'red', label='Virginica', ax=fig)\n",
        "fig.set_xlabel('Sepalo - Longuitud')\n",
        "fig.set_ylabel('Sepalo - Ancho')\n",
        "fig.set_title('Sepalo Longuitud vs Ancho')\n",
        "plt.show()\n",
        "\n",
        "\n",
        "###Gráfico del Pepalo - Longuitud vs Ancho ###\n",
        "fig = iris[iris.Species == 'Iris-setosa'].plot(kind='scatter', x = 'PetalLengthCm', y = 'PetalWidthCm',\n",
        "                                              color = 'blue', label='Setosa')\n",
        "iris[iris.Species == 'Iris-versicolor'].plot(kind='scatter', x = 'PetalLengthCm', y = 'PetalWidthCm',\n",
        "                                              color = 'green', label='Versicolor', ax=fig)\n",
        "iris[iris.Species == 'Iris-virginica'].plot(kind='scatter', x = 'PetalLengthCm', y = 'PetalWidthCm',\n",
        "                                              color = 'red', label='Virginica', ax=fig)\n",
        "\n",
        "fig.set_xlabel('Petalo - Longuitud')\n",
        "fig.set_ylabel('Petalo - Ancho')\n",
        "fig.set_title('Petalo Longuitud vs Ancho')\n",
        "plt.show()\n"
      ],
      "execution_count": null,
      "outputs": [
        {
          "output_type": "display_data",
          "data": {
            "image/png": "[encoded data removed]",
            "text/plain": [
              "<Figure size 432x288 with 1 Axes>"
            ]
          },
          "metadata": {
            "tags": [],
            "needs_background": "light"
          }
        },
        {
          "output_type": "display_data",
          "data": {
            "image/png": "[encoded data removed]",
            "text/plain": [
              "<Figure size 432x288 with 1 Axes>"
            ]
          },
          "metadata": {
            "tags": [],
            "needs_background": "light"
          }
        }
      ]
    },
    {
      "cell_type": "code",
      "metadata": {
        "id": "tynuEtQzrEkC"
      },
      "source": [
        "### ALGORITMOS DE MACHINE LEARNING ###\n",
        "from sklearn.model_selection import train_test_split\n",
        "from sklearn.linear_model import LogisticRegression\n",
        "from sklearn.svm import SVC\n",
        "from sklearn.neighbors import KNeighborsClassifier\n",
        "from sklearn.tree import DecisionTreeClassifier\n",
        "from sklearn.neural_network import MLPClassifier\n"
      ],
      "execution_count": null,
      "outputs": []
    },
    {
      "cell_type": "code",
      "metadata": {
        "id": "4LZ2F8jzrEkC",
        "outputId": "0bba8905-30c2-4081-efd0-8ec058d0f495"
      },
      "source": [
        "### DATOS DE ENTRENAMIENTO Y PRUEBA ###\n",
        "X = np.array(iris.drop(['Species'],1))\n",
        "Y = np.array(iris['Species'])\n",
        "\n",
        "X_train, X_test, Y_train, Y_test = train_test_split(X, Y, test_size=0.2)\n",
        "\n",
        "#X_train --> Y_train   entrenar mi red  80%\n",
        "#X_test --> Y_test     validar --> predecir  20%\n",
        "print(\"Son {} datos para entrenamiento y {} datos de prueba\".format(X_train.shape[0], X_test.shape[0]))\n",
        "print(\"Son {} etiquetas para entrenamiento y {} etiquetas de prueba\".format(Y_train.shape[0], Y_test.shape[0]))"
      ],
      "execution_count": null,
      "outputs": [
        {
          "output_type": "stream",
          "text": [
            "Son 120 datos para entrenamiento y 30 datos de prueba\n",
            "Son 120 etiquetas para entrenamiento y 30 etiquetas de prueba\n"
          ],
          "name": "stdout"
        }
      ]
    },
    {
      "cell_type": "code",
      "metadata": {
        "id": "QHNvbfF9rEkD"
      },
      "source": [
        "### APLICACIÓN DE LOS ALGORITMOS DE MACHINE LEARNING ###"
      ],
      "execution_count": null,
      "outputs": []
    },
    {
      "cell_type": "markdown",
      "metadata": {
        "id": "88iC0re2rEkD"
      },
      "source": [
        "<h3>Regresión Logística</h3>\n",
        "\n",
        "<div align=\"left\"> Los modelos lineales, también pueden ser utilizados para clasificaciones; \n",
        "es decir, que primero ajustamos el modelo lineal a la probabilidad de que una \n",
        "cierta clase o categoría ocurra y, a luego, utilizamos una función para crear \n",
        "un umbral en el cual especificamos el resultado de una de estas clases o categorías. \n",
        "La función que utiliza este modelo, no es ni más ni menos que la función logística. </div>\n",
        "\n",
        "f(x)=11+e−1"
      ]
    },
    {
      "cell_type": "code",
      "metadata": {
        "id": "HSS6fLLorEkD",
        "outputId": "2620a2bc-6fda-4730-9fb7-a552d863be97"
      },
      "source": [
        "modelo = LogisticRegression()\n",
        "modelo.fit(X_train, Y_train)\n",
        "Y_pred = modelo.predict(X_test)\n",
        "print(\"Presición Regresión Logistica: {}\".format(modelo.score(X_train, Y_train)))"
      ],
      "execution_count": null,
      "outputs": [
        {
          "output_type": "stream",
          "text": [
            "Presición Regresión Logistica: 0.9666666666666667\n"
          ],
          "name": "stdout"
        },
        {
          "output_type": "stream",
          "text": [
            "C:\\ProgramData\\Anaconda3\\lib\\site-packages\\sklearn\\linear_model\\_logistic.py:940: ConvergenceWarning: lbfgs failed to converge (status=1):\n",
            "STOP: TOTAL NO. of ITERATIONS REACHED LIMIT.\n",
            "\n",
            "Increase the number of iterations (max_iter) or scale the data as shown in:\n",
            "    https://scikit-learn.org/stable/modules/preprocessing.html\n",
            "Please also refer to the documentation for alternative solver options:\n",
            "    https://scikit-learn.org/stable/modules/linear_model.html#logistic-regression\n",
            "  extra_warning_msg=_LOGISTIC_SOLVER_CONVERGENCE_MSG)\n"
          ],
          "name": "stderr"
        }
      ]
    },
    {
      "cell_type": "code",
      "metadata": {
        "id": "YT9CZXjmrEkE"
      },
      "source": [
        "### Modelo\n",
        "### fit - X_train - Y_train\n",
        "### predict\n",
        "### score"
      ],
      "execution_count": null,
      "outputs": []
    },
    {
      "cell_type": "markdown",
      "metadata": {
        "id": "f0qlhsCtrEkE"
      },
      "source": [
        "<h3>SVM o Máquinas de vectores de soporte</h3>\n",
        "\n",
        "<div align=\"left\">La idea detrás de SVM es encontrar un plano que separe los grupos dentro de los datos de la mejor forma posible. \n",
        "Aquí, la separación significa que la elección del plano maximiza el margen entre los puntos más cercanos en el plano; \n",
        "éstos puntos se denominan vectores de soporte. Pasemos al ejemplo.<div>\n"
      ]
    },
    {
      "cell_type": "code",
      "metadata": {
        "id": "aoSeic-erEkE",
        "outputId": "f292cec7-c0a7-40ce-8582-097ddc3aed72"
      },
      "source": [
        "modelo = SVC()\n",
        "modelo.fit(X_train, Y_train)\n",
        "Y_pred = modelo.predict(X_test)\n",
        "print(\"Presición Máquinas de vectores de Soporte : {}\".format(modelo.score(X_train, Y_train)))"
      ],
      "execution_count": null,
      "outputs": [
        {
          "output_type": "stream",
          "text": [
            "Presición Máquinas de vectores de Soporte : 0.975\n"
          ],
          "name": "stdout"
        }
      ]
    },
    {
      "cell_type": "markdown",
      "metadata": {
        "id": "gLkb-29DrEkE"
      },
      "source": [
        "<h3>KNN o k vecinos más cercanos</h3>\n",
        "\n",
        "<div align=\"left\">Este es un método de clasificación no paramétrico, que estima el valor de la probabilidad a posteriori de que un elemento xx pertenezca a una clase en particular a partir de la información proporcionada por el conjunto de prototipos. La regresión KNN se calcula simplemente tomando el promedio del punto k más cercano al punto que se está probando.</dv>"
      ]
    },
    {
      "cell_type": "code",
      "metadata": {
        "id": "iY6mpQ7wrEkF",
        "outputId": "c0d2d787-13ef-4671-e6a9-53ef85546efd"
      },
      "source": [
        "modelo = KNeighborsClassifier(n_neighbors = 5)\n",
        "modelo.fit(X_train, Y_train)\n",
        "Y_pred = modelo.predict(X_test)\n",
        "print(\"Presición Vecinos más cercanos : {}\".format(modelo.score(X_train, Y_train)))"
      ],
      "execution_count": null,
      "outputs": [
        {
          "output_type": "stream",
          "text": [
            "Presición Vecinos más cercanos : 0.975\n"
          ],
          "name": "stdout"
        }
      ]
    },
    {
      "cell_type": "markdown",
      "metadata": {
        "id": "0yiw-CAVrEkF"
      },
      "source": [
        "<h3>Arboles de decisión</h3>\n",
        "\n",
        "<div align=\"left\"> Son diagramas con construcciones lógicas, muy similares a los sistemas de predicción basados en reglas, \n",
        "que sirven para representar y categorizar una serie de condiciones que ocurren de forma sucesiva, para \n",
        "la resolución de un problema. \n",
        "\n",
        "Están compuestos por nodos interiores, nodos terminales y ramas que emanan de los nodos interiores. \n",
        "Cada nodo interior en el árbol contiene una prueba de un atributo, y cada rama representa un valor \n",
        "distinto del atributo. Siguiendo las ramas desde el nodo raíz hacia abajo, cada ruta finalmente termina \n",
        "en un nodo terminal creando una segmentación de los datos. Veamos aquí también un pequeño ejemplo en Python.<div>"
      ]
    },
    {
      "cell_type": "code",
      "metadata": {
        "id": "t42-bIhxrEkF",
        "outputId": "54519f97-d708-48e6-f573-1d6b2a6f2083"
      },
      "source": [
        "modelo = DecisionTreeClassifier()\n",
        "modelo.fit(X_train, Y_train)\n",
        "Y_pred = modelo.predict(X_test)\n",
        "print(\"Presición Árboles de Decisión: {}\".format(modelo.score(X_train, Y_train)))"
      ],
      "execution_count": null,
      "outputs": [
        {
          "output_type": "stream",
          "text": [
            "Presición Árboles de Decisión: 1.0\n"
          ],
          "name": "stdout"
        }
      ]
    },
    {
      "cell_type": "markdown",
      "metadata": {
        "id": "5rs2IinTrEkF"
      },
      "source": [
        "<h3>Perceptron Multi-Layers - MLP Clasiffier</h3>\n",
        "\n",
        "<div align=\"left\">El perceptrón multicapa es una red neuronal artificial (RNA) formada por múltiples capas, de tal manera que tiene capacidad para resolver problemas que no son linealmente separables, lo cual es la principal limitación del perceptrón (también llamado perceptrón simple). El perceptrón multicapa puede estar totalmente o localmente conectado. En el primer caso cada salida de una neurona de la capa \"i\" es entrada de todas las neuronas de la capa \"i+1\", mientras que en el segundo cada neurona de la capa \"i\" es entrada de una serie de neuronas (región) de la capa \"i+1\". \n",
        "\n",
        "   \n",
        "</div>\n",
        "<img src=\"MLPClassifier.png\" align=\"left\" width=\"350\" height=\"500\">\n"
      ]
    },
    {
      "cell_type": "code",
      "metadata": {
        "id": "7cG1rVdarEkG",
        "outputId": "19a06077-d968-40e4-e70b-3023f386699a"
      },
      "source": [
        "iter = 10000\n",
        "capas_ocultas = [10,10,10]\n",
        "\n",
        "modelo = MLPClassifier(hidden_layer_sizes=(capas_ocultas), max_iter=iter)\n",
        "modelo.fit(X_train, Y_train)\n",
        "Y_pred = modelo.predict(X_test)\n",
        "print(\"Presición Neural Networks: {}\".format(modelo.score(X_train, Y_train)))\n"
      ],
      "execution_count": null,
      "outputs": [
        {
          "output_type": "stream",
          "text": [
            "Presición Neural Networks: 0.9916666666666667\n"
          ],
          "name": "stdout"
        }
      ]
    },
    {
      "cell_type": "markdown",
      "metadata": {
        "id": "mSfmxPiarEkG"
      },
      "source": [
        "<h3>Random Forest</h3>\n",
        "\n",
        "<div align=\"left\"> En lugar de utilizar solo un árbol para decidir, ¿por qué no utilizar todo un bosque?!!. Esta es la idea central detrás del algoritmo de Random Forest. Trabaja construyendo una gran cantidad de arboles de decisión muy poco profundos, y luego toma la clase que cada árbol eligió. Esta idea es muy poderosa en Machine Learning. Si tenemos en cuenta que un sencillo clasificador entrenado podría tener sólo el 60 por ciento de precisión, podemos entrenar un montón de clasificadores que sean por lo general acertados y luego podemos utilizar la sabiduría de todos los aprendices juntos. Con Python los podemos utilizar de la siguiente manera:</div>\n"
      ]
    },
    {
      "cell_type": "code",
      "metadata": {
        "id": "2MolTmanrEkG"
      },
      "source": [
        ""
      ],
      "execution_count": null,
      "outputs": []
    },
    {
      "cell_type": "markdown",
      "metadata": {
        "id": "hqcv_yoNrEkH"
      },
      "source": [
        "\n"
      ]
    },
    {
      "cell_type": "code",
      "metadata": {
        "id": "bLgdKjbGrEkH"
      },
      "source": [
        ""
      ],
      "execution_count": null,
      "outputs": []
    },
    {
      "cell_type": "code",
      "metadata": {
        "id": "08jl1P7irEkI"
      },
      "source": [
        ""
      ],
      "execution_count": null,
      "outputs": []
    }
  ]
}