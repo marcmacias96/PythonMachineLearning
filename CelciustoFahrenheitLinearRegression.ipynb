{
  "nbformat": 4,
  "nbformat_minor": 0,
  "metadata": {
    "colab": {
      "name": "CelciustoFahrenheitLinearRegression.ipynb",
      "provenance": [],
      "collapsed_sections": [],
      "mount_file_id": "1dlBlmReFCESM5pwLBrHUOxT1uiqf2z8R",
      "authorship_tag": "ABX9TyOLqAMXEUT7m7T6tXCxjsqk",
      "include_colab_link": true
    },
    "kernelspec": {
      "name": "python3",
      "display_name": "Python 3"
    }
  },
  "cells": [
    {
      "cell_type": "markdown",
      "metadata": {
        "id": "view-in-github",
        "colab_type": "text"
      },
      "source": [
        "<a href=\"https://colab.research.google.com/github/marcmacias96/PythonMachineLearning/blob/master/CelciustoFahrenheitLinearRegression.ipynb\" target=\"_parent\"><img src=\"https://colab.research.google.com/assets/colab-badge.svg\" alt=\"Open In Colab\"/></a>"
      ]
    },
    {
      "cell_type": "code",
      "metadata": {
        "id": "kJEHxzZdI8V2"
      },
      "source": [
        "#importamos las librerias\n",
        "import pandas as pd\n",
        "import numpy as np\n",
        "import matplotlib.pyplot as plt\n",
        "#ahora importamos la libreria Sklearn para instaciar nuestra regresion lineal model\n",
        "from sklearn.linear_model import LinearRegression"
      ],
      "execution_count": null,
      "outputs": []
    },
    {
      "cell_type": "code",
      "metadata": {
        "id": "LKA4-mUUpSPS"
      },
      "source": [
        "\n",
        "# Esta seccion de codigo es para obtener nuesto deataset de google drive\n",
        "!pip install -U -q PyDrive\n",
        "from pydrive.auth import GoogleAuth\n",
        "from pydrive.drive import GoogleDrive\n",
        "from google.colab import auth\n",
        "from oauth2client.client import GoogleCredentials\n",
        "# Authenticate and create the PyDrive client.\n",
        "auth.authenticate_user()\n",
        "gauth = GoogleAuth()\n",
        "gauth.credentials = GoogleCredentials.get_application_default()\n",
        "drive = GoogleDrive(gauth)\n",
        "link = 'https://drive.google.com/file/d/1KEQCysbOLUCBgdfrzml1RGm--7gzjLBW/view?usp=sharing'\n",
        "id = '1KEQCysbOLUCBgdfrzml1RGm--7gzjLBW'\n",
        "downloaded = drive.CreateFile({'id':id}) \n",
        "downloaded.GetContentFile('Filename.csv')  \n",
        "dataset = pd.read_csv('celsius_a_fahrenheit.csv')"
      ],
      "execution_count": null,
      "outputs": []
    },
    {
      "cell_type": "code",
      "metadata": {
        "colab": {
          "base_uri": "https://localhost:8080/",
          "height": 204
        },
        "id": "yrsjZVZerdVV",
        "outputId": "8e446b56-8708-4c20-9caf-1dc1a6c01bdb"
      },
      "source": [
        "dataset.head()"
      ],
      "execution_count": null,
      "outputs": [
        {
          "output_type": "execute_result",
          "data": {
            "text/html": [
              "<div>\n",
              "<style scoped>\n",
              "    .dataframe tbody tr th:only-of-type {\n",
              "        vertical-align: middle;\n",
              "    }\n",
              "\n",
              "    .dataframe tbody tr th {\n",
              "        vertical-align: top;\n",
              "    }\n",
              "\n",
              "    .dataframe thead th {\n",
              "        text-align: right;\n",
              "    }\n",
              "</style>\n",
              "<table border=\"1\" class=\"dataframe\">\n",
              "  <thead>\n",
              "    <tr style=\"text-align: right;\">\n",
              "      <th></th>\n",
              "      <th>Celsius</th>\n",
              "      <th>Fahrenheit</th>\n",
              "    </tr>\n",
              "  </thead>\n",
              "  <tbody>\n",
              "    <tr>\n",
              "      <th>0</th>\n",
              "      <td>-108</td>\n",
              "      <td>NaN</td>\n",
              "    </tr>\n",
              "    <tr>\n",
              "      <th>1</th>\n",
              "      <td>-80</td>\n",
              "      <td>NaN</td>\n",
              "    </tr>\n",
              "    <tr>\n",
              "      <th>2</th>\n",
              "      <td>-52</td>\n",
              "      <td>NaN</td>\n",
              "    </tr>\n",
              "    <tr>\n",
              "      <th>3</th>\n",
              "      <td>-24</td>\n",
              "      <td>NaN</td>\n",
              "    </tr>\n",
              "    <tr>\n",
              "      <th>4</th>\n",
              "      <td>-10</td>\n",
              "      <td>14.0</td>\n",
              "    </tr>\n",
              "  </tbody>\n",
              "</table>\n",
              "</div>"
            ],
            "text/plain": [
              "   Celsius  Fahrenheit\n",
              "0     -108         NaN\n",
              "1      -80         NaN\n",
              "2      -52         NaN\n",
              "3      -24         NaN\n",
              "4      -10        14.0"
            ]
          },
          "metadata": {
            "tags": []
          },
          "execution_count": 5
        }
      ]
    },
    {
      "cell_type": "code",
      "metadata": {
        "colab": {
          "base_uri": "https://localhost:8080/"
        },
        "id": "j7H-179a__k-",
        "outputId": "988c94a3-96c8-45b3-bdac-8f2f8e7c3d5b"
      },
      "source": [
        "#verificamos que no existan datos incorrectos y si hay los corregimos\n",
        "index = 0\n",
        "for test in dataset.Celsius :\n",
        "  correct = test*1.8 + 32\n",
        "  if correct != dataset.Fahrenheit.get(index):\n",
        "    print(f'correcto: {correct}, actual: {dataset.Fahrenheit.get(index)}')\n",
        "    dataset.Fahrenheit[index] = correct\n",
        "    print(f'ahora: {dataset.Fahrenheit.get(index)}')\n",
        "  index+=1"
      ],
      "execution_count": 160,
      "outputs": [
        {
          "output_type": "stream",
          "text": [
            "correcto: -162.4, actual: nan\n",
            "ahora: -162.4\n",
            "correcto: -112.0, actual: nan\n",
            "ahora: -112.0\n",
            "correcto: -61.60000000000001, actual: nan\n",
            "ahora: -61.60000000000001\n",
            "correcto: -11.200000000000003, actual: nan\n",
            "ahora: -11.200000000000003\n",
            "correcto: 50.0, actual: 5.0\n",
            "ahora: 50.0\n",
            "correcto: 140.0, actual: 14.0\n",
            "ahora: 140.0\n"
          ],
          "name": "stdout"
        },
        {
          "output_type": "stream",
          "text": [
            "/usr/local/lib/python3.6/dist-packages/ipykernel_launcher.py:7: SettingWithCopyWarning: \n",
            "A value is trying to be set on a copy of a slice from a DataFrame\n",
            "\n",
            "See the caveats in the documentation: https://pandas.pydata.org/pandas-docs/stable/user_guide/indexing.html#returning-a-view-versus-a-copy\n",
            "  import sys\n"
          ],
          "name": "stderr"
        }
      ]
    },
    {
      "cell_type": "code",
      "metadata": {
        "colab": {
          "base_uri": "https://localhost:8080/",
          "height": 295
        },
        "id": "DVnXL_pmDGT8",
        "outputId": "2a6302dc-dfba-4d85-cc52-167a2c480191"
      },
      "source": [
        "#Graficamos la data real\n",
        "plt.scatter(dataset.Celsius,dataset.Fahrenheit, c='red', label='Real')\n",
        "plt.xlabel('Celcius')\n",
        "plt.ylabel('Farenheit')\n",
        "plt.legend()\n",
        "plt.grid(True)\n",
        "plt.title('Real Data')\n",
        "plt.show()\n"
      ],
      "execution_count": 161,
      "outputs": [
        {
          "output_type": "display_data",
          "data": {
            "image/png": "[encoded data removed]",
            "text/plain": [
              "<Figure size 432x288 with 1 Axes>"
            ]
          },
          "metadata": {
            "tags": [],
            "needs_background": "light"
          }
        }
      ]
    },
    {
      "cell_type": "code",
      "metadata": {
        "id": "9ImUwfepwThs"
      },
      "source": [
        "#tranformamos los datos a conveniencia del algoritmo de 1D a 2D\n",
        "celarray = np.array(dataset.Celsius)\n",
        "fararray = np.array(dataset.Fahrenheit)\n",
        "celarray= np.reshape(celarray,(-1,1))\n",
        "fararray = np.reshape(fararray,(-1,1))"
      ],
      "execution_count": null,
      "outputs": []
    },
    {
      "cell_type": "code",
      "metadata": {
        "colab": {
          "base_uri": "https://localhost:8080/"
        },
        "id": "rA3Kd_b9vDEK",
        "outputId": "446e9131-e9cb-4482-fb38-9650aad62874"
      },
      "source": [
        "#Creamos nuestra instancia de LienarRegresion de Sklear y le damos nuestro dataset como nuestro conjunto de entrenamiento\n",
        "LR = LinearRegression()\n",
        "LR.fit(celarray,fararray)"
      ],
      "execution_count": null,
      "outputs": [
        {
          "output_type": "execute_result",
          "data": {
            "text/plain": [
              "LinearRegression(copy_X=True, fit_intercept=True, n_jobs=None, normalize=False)"
            ]
          },
          "metadata": {
            "tags": []
          },
          "execution_count": 155
        }
      ]
    },
    {
      "cell_type": "code",
      "metadata": {
        "id": "zg4kY6uO1gJM"
      },
      "source": [
        "#hacemos un conjunto de datos de prueba (Vamos a meter los datos que no existian en el dataset)\n",
        "\n",
        "celcius_test = np.reshape([-74,-23,-80,-91],(-1,1))\n",
        "farenheit_predict = LR.predict(celcius_test)"
      ],
      "execution_count": null,
      "outputs": []
    },
    {
      "cell_type": "code",
      "metadata": {
        "colab": {
          "base_uri": "https://localhost:8080/",
          "height": 295
        },
        "id": "bGQAPKul2Q1p",
        "outputId": "c258b66a-12e7-4f0a-f6b0-8d6aa0356b57"
      },
      "source": [
        "#Graficamos nuestros datos con los datos de prueba \n",
        "plt.scatter(dataset.Celsius,dataset.Fahrenheit, c='blue', label='Datos Reales')\n",
        "plt.scatter(celcius_test, farenheit_predict, c='red', label='Datos predichos')\n",
        "plt.xlabel('Celcius')\n",
        "plt.ylabel('Fahrenheit')\n",
        "plt.legend()\n",
        "plt.grid(True)\n",
        "plt.title('Estimada vs Datos reales')\n",
        "plt.show()"
      ],
      "execution_count": 162,
      "outputs": [
        {
          "output_type": "display_data",
          "data": {
            "image/png": "[encoded data removed]",
            "text/plain": [
              "<Figure size 432x288 with 1 Axes>"
            ]
          },
          "metadata": {
            "tags": [],
            "needs_background": "light"
          }
        }
      ]
    },
    {
      "cell_type": "code",
      "metadata": {
        "colab": {
          "base_uri": "https://localhost:8080/"
        },
        "id": "kRlhQBki3_j8",
        "outputId": "a8a83786-c272-4928-c4bb-ecd391da2423"
      },
      "source": [
        "#Como la relación entre Celsius y Fahrenheit es una ecuación lineal de primer orden, nuestro modelo predice la precisión %100. Vamos a comprobarlo:\n",
        "a=LR.coef_\n",
        "b=LR.predict([[0]])\n",
        "print(f'a: {a}, b: {b}')"
      ],
      "execution_count": null,
      "outputs": [
        {
          "output_type": "stream",
          "text": [
            "a: [[1.8]], b: [[32.]]\n"
          ],
          "name": "stdout"
        }
      ]
    },
    {
      "cell_type": "code",
      "metadata": {
        "id": "4k8nhn8Z4di3"
      },
      "source": [
        "x_range = np.arange(-75,100)\n",
        "f = x_range*1.8 + 32"
      ],
      "execution_count": null,
      "outputs": []
    },
    {
      "cell_type": "code",
      "metadata": {
        "colab": {
          "base_uri": "https://localhost:8080/",
          "height": 295
        },
        "id": "GE7prXvR4hJ7",
        "outputId": "9cab26ea-f6be-4d80-f609-f4943a068129"
      },
      "source": [
        "plt.plot(x_range,f,c='orange', label='Ecuacion')\n",
        "plt.scatter(dataset.Celsius,dataset.Fahrenheit, c='blue', label='Datos Reales')\n",
        "plt.scatter(celcius_test, farenheit_predict, c='red', label='Datos predichos')\n",
        "plt.xlabel('celsius')\n",
        "plt.ylabel('fahrenheit')\n",
        "plt.legend()\n",
        "plt.grid(True)\n",
        "plt.title('estimated and real data vs equation')\n",
        "plt.show()"
      ],
      "execution_count": 163,
      "outputs": [
        {
          "output_type": "display_data",
          "data": {
            "image/png": "[encoded data removed]",
            "text/plain": [
              "<Figure size 432x288 with 1 Axes>"
            ]
          },
          "metadata": {
            "tags": [],
            "needs_background": "light"
          }
        }
      ]
    },
    {
      "cell_type": "code",
      "metadata": {
        "colab": {
          "base_uri": "https://localhost:8080/"
        },
        "id": "Mk60NM1A4-xw",
        "outputId": "0dafd4ee-82db-47b6-8777-e8ca7955343e"
      },
      "source": [
        "\n",
        "acc_train = LR.score(celarray,fararray)\n",
        "print('Pesicion de entrenamiento:',acc_train)"
      ],
      "execution_count": null,
      "outputs": [
        {
          "output_type": "stream",
          "text": [
            "Pesicion de entrenamiento: 1.0\n"
          ],
          "name": "stdout"
        }
      ]
    },
    {
      "cell_type": "code",
      "metadata": {
        "colab": {
          "base_uri": "https://localhost:8080/"
        },
        "id": "A5C99Kfh5X2F",
        "outputId": "5c92db99-7e19-4c7a-9aa5-7e3da87ff902"
      },
      "source": [
        "acc_test = LR.score(celcius_test,farenheit_predict)\n",
        "print(f'Presicion de prediccion', acc_test)\n",
        "print(f'Grados centigrados: {celcius_test}')\n",
        "print(f'Grados farengeigth: {farenheit_predict}')"
      ],
      "execution_count": null,
      "outputs": [
        {
          "output_type": "stream",
          "text": [
            "Presicion de prediccion 1.0\n",
            "Grados centigrados: [[-74]\n",
            " [-23]\n",
            " [-80]\n",
            " [-91]]\n",
            "Grados farengeigth: [[-101.2]\n",
            " [  -9.4]\n",
            " [-112. ]\n",
            " [-131.8]]\n"
          ],
          "name": "stdout"
        }
      ]
    }
  ]
}