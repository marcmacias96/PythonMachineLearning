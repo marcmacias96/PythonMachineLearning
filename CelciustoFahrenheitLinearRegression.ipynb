{
  "nbformat": 4,
  "nbformat_minor": 0,
  "metadata": {
    "colab": {
      "name": "CelciustoFahrenheitLinearRegression.ipynb",
      "provenance": [],
      "collapsed_sections": [],
      "mount_file_id": "1dlBlmReFCESM5pwLBrHUOxT1uiqf2z8R",
      "authorship_tag": "ABX9TyNQQDnMuJKJPYxPATGmzVzO",
      "include_colab_link": true
    },
    "kernelspec": {
      "name": "python3",
      "display_name": "Python 3"
    }
  },
  "cells": [
    {
      "cell_type": "markdown",
      "metadata": {
        "id": "view-in-github",
        "colab_type": "text"
      },
      "source": [
        "<a href=\"https://colab.research.google.com/github/marcmacias96/PythonMachineLearning/blob/master/CelciustoFahrenheitLinearRegression.ipynb\" target=\"_parent\"><img src=\"https://colab.research.google.com/assets/colab-badge.svg\" alt=\"Open In Colab\"/></a>"
      ]
    },
    {
      "cell_type": "code",
      "metadata": {
        "id": "kJEHxzZdI8V2"
      },
      "source": [
        "#importamos las librerias\n",
        "import pandas as pd\n",
        "import numpy as np\n",
        "import matplotlib.pyplot as plt\n",
        "#ahora importamos la libreria Sklearn para instaciar nuestra regresion lineal model\n",
        "from sklearn.linear_model import LinearRegression"
      ],
      "execution_count": 3,
      "outputs": []
    },
    {
      "cell_type": "code",
      "metadata": {
        "id": "LKA4-mUUpSPS"
      },
      "source": [
        "dataset = pd.read_csv('celsius_a_fahrenheit.csv')"
      ],
      "execution_count": 8,
      "outputs": []
    },
    {
      "cell_type": "code",
      "metadata": {
        "colab": {
          "base_uri": "https://localhost:8080/",
          "height": 204
        },
        "id": "yrsjZVZerdVV",
        "outputId": "28155548-2ebd-482c-844d-140204d01da0"
      },
      "source": [
        "dataset.head()"
      ],
      "execution_count": 9,
      "outputs": [
        {
          "output_type": "execute_result",
          "data": {
            "text/html": [
              "<div>\n",
              "<style scoped>\n",
              "    .dataframe tbody tr th:only-of-type {\n",
              "        vertical-align: middle;\n",
              "    }\n",
              "\n",
              "    .dataframe tbody tr th {\n",
              "        vertical-align: top;\n",
              "    }\n",
              "\n",
              "    .dataframe thead th {\n",
              "        text-align: right;\n",
              "    }\n",
              "</style>\n",
              "<table border=\"1\" class=\"dataframe\">\n",
              "  <thead>\n",
              "    <tr style=\"text-align: right;\">\n",
              "      <th></th>\n",
              "      <th>Celsius</th>\n",
              "      <th>Fahrenheit</th>\n",
              "    </tr>\n",
              "  </thead>\n",
              "  <tbody>\n",
              "    <tr>\n",
              "      <th>0</th>\n",
              "      <td>-108</td>\n",
              "      <td>NaN</td>\n",
              "    </tr>\n",
              "    <tr>\n",
              "      <th>1</th>\n",
              "      <td>-80</td>\n",
              "      <td>NaN</td>\n",
              "    </tr>\n",
              "    <tr>\n",
              "      <th>2</th>\n",
              "      <td>-52</td>\n",
              "      <td>NaN</td>\n",
              "    </tr>\n",
              "    <tr>\n",
              "      <th>3</th>\n",
              "      <td>-24</td>\n",
              "      <td>NaN</td>\n",
              "    </tr>\n",
              "    <tr>\n",
              "      <th>4</th>\n",
              "      <td>-10</td>\n",
              "      <td>14.0</td>\n",
              "    </tr>\n",
              "  </tbody>\n",
              "</table>\n",
              "</div>"
            ],
            "text/plain": [
              "   Celsius  Fahrenheit\n",
              "0     -108         NaN\n",
              "1      -80         NaN\n",
              "2      -52         NaN\n",
              "3      -24         NaN\n",
              "4      -10        14.0"
            ]
          },
          "metadata": {
            "tags": []
          },
          "execution_count": 9
        }
      ]
    },
    {
      "cell_type": "code",
      "metadata": {
        "colab": {
          "base_uri": "https://localhost:8080/",
          "height": 204
        },
        "id": "xPFUyUkf7MdK",
        "outputId": "45f96058-cdd9-4fc9-cc23-617c22068df5"
      },
      "source": [
        "#Dividimos el dataset en las partes que existen y las que no tienen valores para luego usarlas como valores de prueba\n",
        "test_data = dataset[0:3]\n",
        "train_data = dataset[4::]\n",
        "train_data.head()\n"
      ],
      "execution_count": 30,
      "outputs": [
        {
          "output_type": "execute_result",
          "data": {
            "text/html": [
              "<div>\n",
              "<style scoped>\n",
              "    .dataframe tbody tr th:only-of-type {\n",
              "        vertical-align: middle;\n",
              "    }\n",
              "\n",
              "    .dataframe tbody tr th {\n",
              "        vertical-align: top;\n",
              "    }\n",
              "\n",
              "    .dataframe thead th {\n",
              "        text-align: right;\n",
              "    }\n",
              "</style>\n",
              "<table border=\"1\" class=\"dataframe\">\n",
              "  <thead>\n",
              "    <tr style=\"text-align: right;\">\n",
              "      <th></th>\n",
              "      <th>Celsius</th>\n",
              "      <th>Fahrenheit</th>\n",
              "    </tr>\n",
              "  </thead>\n",
              "  <tbody>\n",
              "    <tr>\n",
              "      <th>4</th>\n",
              "      <td>-10</td>\n",
              "      <td>14.0</td>\n",
              "    </tr>\n",
              "    <tr>\n",
              "      <th>5</th>\n",
              "      <td>-9</td>\n",
              "      <td>15.8</td>\n",
              "    </tr>\n",
              "    <tr>\n",
              "      <th>6</th>\n",
              "      <td>-8</td>\n",
              "      <td>17.6</td>\n",
              "    </tr>\n",
              "    <tr>\n",
              "      <th>7</th>\n",
              "      <td>-7</td>\n",
              "      <td>19.4</td>\n",
              "    </tr>\n",
              "    <tr>\n",
              "      <th>8</th>\n",
              "      <td>-6</td>\n",
              "      <td>21.2</td>\n",
              "    </tr>\n",
              "  </tbody>\n",
              "</table>\n",
              "</div>"
            ],
            "text/plain": [
              "   Celsius  Fahrenheit\n",
              "4      -10        14.0\n",
              "5       -9        15.8\n",
              "6       -8        17.6\n",
              "7       -7        19.4\n",
              "8       -6        21.2"
            ]
          },
          "metadata": {
            "tags": []
          },
          "execution_count": 30
        }
      ]
    },
    {
      "cell_type": "code",
      "metadata": {
        "id": "j7H-179a__k-"
      },
      "source": [
        "#verificamos que no existan datos incorrectos y si hay los corregimos\n",
        "index = 4\n",
        "for test in train_data.Celsius :\n",
        "  correct = test*1.8 + 32\n",
        "  if correct != train_data.Fahrenheit.get(index):\n",
        "    print(f'correcto: {correct}, actual: {train_data.Fahrenheit.get(index)}')\n",
        "    train_data.Fahrenheit[index] = correct\n",
        "    print(f'ahora: {train_data.Fahrenheit.get(index)}')\n",
        "  index+=1"
      ],
      "execution_count": 31,
      "outputs": []
    },
    {
      "cell_type": "code",
      "metadata": {
        "colab": {
          "base_uri": "https://localhost:8080/",
          "height": 295
        },
        "id": "DVnXL_pmDGT8",
        "outputId": "d360065a-08c5-4f9e-f370-f2b0db4421d7"
      },
      "source": [
        "#Graficamos la data real\n",
        "plt.scatter(train_data.Celsius,train_data.Fahrenheit, c='red', label='Real')\n",
        "plt.xlabel('Celcius')\n",
        "plt.ylabel('Farenheit')\n",
        "plt.legend()\n",
        "plt.grid(True)\n",
        "plt.title('Real Data')\n",
        "plt.show()\n"
      ],
      "execution_count": 32,
      "outputs": [
        {
          "output_type": "display_data",
          "data": {
            "image/png": "[encoded data removed]",
            "text/plain": [
              "<Figure size 432x288 with 1 Axes>"
            ]
          },
          "metadata": {
            "tags": [],
            "needs_background": "light"
          }
        }
      ]
    },
    {
      "cell_type": "code",
      "metadata": {
        "id": "9ImUwfepwThs"
      },
      "source": [
        "#tranformamos los datos a conveniencia del algoritmo de 1D a 2D\n",
        "celarray = np.array(train_data.Celsius)\n",
        "fararray = np.array(train_data.Fahrenheit)\n",
        "celarray= np.reshape(celarray,(-1,1))\n",
        "fararray = np.reshape(fararray,(-1,1))"
      ],
      "execution_count": 33,
      "outputs": []
    },
    {
      "cell_type": "code",
      "metadata": {
        "colab": {
          "base_uri": "https://localhost:8080/"
        },
        "id": "rA3Kd_b9vDEK",
        "outputId": "048fdfea-d9d8-4c0b-e80a-5bd70ae66420"
      },
      "source": [
        "#Creamos nuestra instancia de LienarRegresion de Sklear y le damos nuestro dataset como nuestro conjunto de entrenamiento\n",
        "LR = LinearRegression()\n",
        "LR.fit(celarray,fararray)"
      ],
      "execution_count": 34,
      "outputs": [
        {
          "output_type": "execute_result",
          "data": {
            "text/plain": [
              "LinearRegression(copy_X=True, fit_intercept=True, n_jobs=None, normalize=False)"
            ]
          },
          "metadata": {
            "tags": []
          },
          "execution_count": 34
        }
      ]
    },
    {
      "cell_type": "code",
      "metadata": {
        "id": "zg4kY6uO1gJM"
      },
      "source": [
        "#hacemos un conjunto de datos de prueba (Vamos a meter los datos que no existian en el dataset)\n",
        "\n",
        "test_celsius_array = np.array(test_data.Celsius)\n",
        "test_celsius_array = np.reshape(test_celsius_array,(-1,1))\n",
        "farenheit_predict = LR.predict(test_celsius_array)"
      ],
      "execution_count": 38,
      "outputs": []
    },
    {
      "cell_type": "code",
      "metadata": {
        "colab": {
          "base_uri": "https://localhost:8080/",
          "height": 295
        },
        "id": "bGQAPKul2Q1p",
        "outputId": "8a585f18-cfde-4d12-d6fe-9851a1a7750e"
      },
      "source": [
        "#Graficamos nuestros datos con los datos de prueba \n",
        "plt.scatter(dataset.Celsius,dataset.Fahrenheit, c='blue', label='Datos Reales')\n",
        "plt.scatter(test_celsius_array, farenheit_predict, c='red', label='Datos predichos')\n",
        "plt.xlabel('Celcius')\n",
        "plt.ylabel('Fahrenheit')\n",
        "plt.legend()\n",
        "plt.grid(True)\n",
        "plt.title('Estimada vs Datos reales')\n",
        "plt.show()"
      ],
      "execution_count": 40,
      "outputs": [
        {
          "output_type": "display_data",
          "data": {
            "image/png": "[encoded data removed]",
            "text/plain": [
              "<Figure size 432x288 with 1 Axes>"
            ]
          },
          "metadata": {
            "tags": [],
            "needs_background": "light"
          }
        }
      ]
    },
    {
      "cell_type": "code",
      "metadata": {
        "colab": {
          "base_uri": "https://localhost:8080/"
        },
        "id": "kRlhQBki3_j8",
        "outputId": "a8a83786-c272-4928-c4bb-ecd391da2423"
      },
      "source": [
        "#Como la relación entre Celsius y Fahrenheit es una ecuación lineal de primer orden, nuestro modelo predice la precisión %100. Vamos a comprobarlo:\n",
        "a=LR.coef_\n",
        "b=LR.predict([[0]])\n",
        "print(f'a: {a}, b: {b}')"
      ],
      "execution_count": null,
      "outputs": [
        {
          "output_type": "stream",
          "text": [
            "a: [[1.8]], b: [[32.]]\n"
          ],
          "name": "stdout"
        }
      ]
    },
    {
      "cell_type": "code",
      "metadata": {
        "id": "4k8nhn8Z4di3"
      },
      "source": [
        "#Graficamos la ecuacion que permite hacer la trasformacion de valores\n",
        "x_range = np.arange(-125,100)\n",
        "f = x_range*1.8 + 32"
      ],
      "execution_count": 44,
      "outputs": []
    },
    {
      "cell_type": "code",
      "metadata": {
        "colab": {
          "base_uri": "https://localhost:8080/",
          "height": 295
        },
        "id": "GE7prXvR4hJ7",
        "outputId": "7f37a653-6390-4d36-ea9a-863e94715f07"
      },
      "source": [
        "plt.plot(x_range,f,c='orange', label='Ecuacion')\n",
        "plt.scatter(dataset.Celsius,dataset.Fahrenheit, c='blue', label='Datos Reales')\n",
        "plt.scatter(test_celsius_array, farenheit_predict, c='red', label='Datos predichos')\n",
        "plt.xlabel('celsius')\n",
        "plt.ylabel('fahrenheit')\n",
        "plt.legend()\n",
        "plt.grid(True)\n",
        "plt.title('Estimada vs Data Real vs Ecuacion')\n",
        "plt.show()"
      ],
      "execution_count": 50,
      "outputs": [
        {
          "output_type": "display_data",
          "data": {
            "image/png": "[encoded data removed]",
            "text/plain": [
              "<Figure size 432x288 with 1 Axes>"
            ]
          },
          "metadata": {
            "tags": [],
            "needs_background": "light"
          }
        }
      ]
    },
    {
      "cell_type": "code",
      "metadata": {
        "colab": {
          "base_uri": "https://localhost:8080/"
        },
        "id": "Mk60NM1A4-xw",
        "outputId": "1cbb22e1-6899-49f9-8081-ff731c7aeba5"
      },
      "source": [
        "\n",
        "acc_train = LR.score(celarray,fararray)\n",
        "print('Pesicion de entrenamiento:',acc_train)"
      ],
      "execution_count": 46,
      "outputs": [
        {
          "output_type": "stream",
          "text": [
            "Pesicion de entrenamiento: 1.0\n"
          ],
          "name": "stdout"
        }
      ]
    },
    {
      "cell_type": "code",
      "metadata": {
        "colab": {
          "base_uri": "https://localhost:8080/"
        },
        "id": "A5C99Kfh5X2F",
        "outputId": "4400e06b-0c5b-40be-8115-820efcac247a"
      },
      "source": [
        "acc_test = LR.score(test_celsius_array,farenheit_predict)\n",
        "print(f'Presicion de prediccion', acc_test)\n",
        "print(f'Grados centigrados: {test_celsius_array}')\n",
        "print(f'Grados farengeigth: {farenheit_predict}')"
      ],
      "execution_count": 49,
      "outputs": [
        {
          "output_type": "stream",
          "text": [
            "Presicion de prediccion 1.0\n",
            "Grados centigrados: [[-108]\n",
            " [ -80]\n",
            " [ -52]]\n",
            "Grados farengeigth: [[-162.4]\n",
            " [-112. ]\n",
            " [ -61.6]]\n"
          ],
          "name": "stdout"
        }
      ]
    }
  ]
}